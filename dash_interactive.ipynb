{
 "cells": [
  {
   "cell_type": "code",
   "execution_count": null,
   "id": "4972db56",
   "metadata": {},
   "outputs": [
    {
     "name": "stdout",
     "output_type": "stream",
     "text": [
      "Dash is running on http://127.0.0.1:8050/\n",
      "\n",
      " * Serving Flask app '__main__' (lazy loading)\n",
      " * Environment: production\n",
      "\u001b[31m   WARNING: This is a development server. Do not use it in a production deployment.\u001b[0m\n",
      "\u001b[2m   Use a production WSGI server instead.\u001b[0m\n",
      " * Debug mode: off\n"
     ]
    },
    {
     "name": "stderr",
     "output_type": "stream",
     "text": [
      " * Running on http://127.0.0.1:8050/ (Press CTRL+C to quit)\n"
     ]
    }
   ],
   "source": [
    "import pandas as pd\n",
    "import dash\n",
    "from dash import dcc\n",
    "from dash import html\n",
    "from dash.dependencies import Input, Output\n",
    "import plotly.express as px\n",
    "from dash import no_update\n",
    "\n",
    "\n",
    "# Create a dash application\n",
    "app = dash.Dash(__name__)\n",
    "\n",
    "#read the data\n",
    "launch_site = pd.read_csv(\"https://cf-courses-data.s3.us.cloud-object-storage.appdomain.cloud/IBM-DS0321EN-SkillsNetwork/datasets/spacex_launch_dash.csv\")\n",
    "min_payload = launch_site['Payload Mass (kg)'].min()\n",
    "max_payload = launch_site['Payload Mass (kg)'].max()\n",
    "\n",
    "app.layout = html.Div(children=[ html.H1('SpaceX Launch Records Dashboard',\n",
    "                                        style={'textAlign': 'center', 'color': '#503D36',\n",
    "                                               'font-size': 40}),\n",
    "                                \n",
    "                                \n",
    "                                dcc.Dropdown(id='site-dropdown',\n",
    "                                                    options=[\n",
    "                                                        {'label':'All Sites', 'value':'ALL'},\n",
    "                                                        {'label':'CCAFS LC-40', 'value':'CCAFS LC-40'},\n",
    "                                                        {'label':'CCAFS SLC-40', 'value':'CCAFS SLC-40'},\n",
    "                                                        {'label':'KSC LC-39A', 'value':'KSC LC-39A'},\n",
    "                                                        {'label':'VAFB SLC-4E', 'value':'VAFB SLC-4E'}\n",
    "                                                    ],\n",
    "                                                    value='ALL',\n",
    "                                                    placeholder='Select a Launch Site here',\n",
    "                                                    style={'width':'80%', 'padding':'3px', 'font-size':'20px','text-align-last':'center'},\n",
    "                                                    searchable=True\n",
    "                                                    ), \n",
    "                                html.Br(),\n",
    "\n",
    "                                # TASK 2: Add a pie chart to show the total successful launches count for all sites\n",
    "                                # If a specific launch site was selected, show the Success vs. Failed counts for the site\n",
    "                                html.Div(dcc.Graph(id='success-pie-chart')),\n",
    "                                html.Br(),\n",
    "                                \n",
    "                                html.P('Payload Mass (KG):'),\n",
    "                                \n",
    "                                dcc.RangeSlider(id='payload-slider', min=0, max=10000, step=1000,\n",
    "                                              marks={0:'0', 100:'100'},\n",
    "                                              value=[min_payload, max_payload]),\n",
    "                                html.Div(dcc.Graph(id='success-payload-scatter-chart')),\n",
    "                                ])\n",
    "\n",
    "\n",
    "\n",
    "@app.callback(Output(component_id='success-pie-chart', component_property='figure'),\n",
    "             Input(component_id='site-dropdown', component_property='value'))\n",
    "def get_pie_chart(entered_site):\n",
    "    filtered_df = launch_site\n",
    "    if entered_site == \"ALL\":\n",
    "        fig = px.pie(filtered_df, values='class', names='Launch Site', title='Success count for all launch sites')\n",
    "        return fig\n",
    "    else:\n",
    "        filtered_df = launch_site[launch_site['Launch Site'] == entered_site]\n",
    "        filtered_df = filtered_df.groupby(['Launch Site', 'class']).size().reset_index(name='class count')\n",
    "        fig = px.pie(filtered_df, values='class count',names='class',title=f\"Total Success Launches for site {entered_site}\")\n",
    "        return fig\n",
    "\n",
    "@app.callback(Output(component_id='success-payload-scatter-chart', component_property='figure'),\n",
    "             Input(component_id='site-dropdown', component_property='value'),\n",
    "             Input(component_id='payload-slider', component_property='value'))    \n",
    "def scatter_chart(entered_site,payload):\n",
    "    filtered_df = launch_site[launch_site['Payload Mass (kg)'].between(payload[0],payload[1])]\n",
    "    # thought reusing filtered_df may cause issues, but tried it out of curiosity and it seems to be working fine\n",
    "    \n",
    "    if entered_site=='ALL':\n",
    "        fig=px.scatter(filtered_df,x='Payload Mass (kg)',y='class',color='Booster Version Category',title='Success count on Payload mass for all sites')\n",
    "        return fig\n",
    "    else:\n",
    "        fig=px.scatter(filtered_df[filtered_df['Launch Site']==entered_site],x='Payload Mass (kg)',y='class',color='Booster Version Category',title=f\"Success count on Payload mass for site {entered_site}\")\n",
    "        return fig\n",
    "\n",
    "if __name__ == '__main__':\n",
    "    # REVIEW8: Adding dev_tools_ui=False, dev_tools_props_check=False can prevent error appearing before calling callback function\n",
    "    app.run_server()\n",
    "    \n",
    "#whenever writing a dash code there must be somethings that should be included\n",
    "#load the data, start the app, app layout(html.Div(children=)) the layout of the page., must include dcc.graph to display the charts on the dashboard,\n",
    "#include a @call back function that is output and input and then define the function, run the app."
   ]
  },
  {
   "cell_type": "code",
   "execution_count": null,
   "id": "364ea5ac",
   "metadata": {},
   "outputs": [],
   "source": []
  },
  {
   "cell_type": "code",
   "execution_count": null,
   "id": "646bd195",
   "metadata": {},
   "outputs": [],
   "source": []
  }
 ],
 "metadata": {
  "kernelspec": {
   "display_name": "Python 3 (ipykernel)",
   "language": "python",
   "name": "python3"
  },
  "language_info": {
   "codemirror_mode": {
    "name": "ipython",
    "version": 3
   },
   "file_extension": ".py",
   "mimetype": "text/x-python",
   "name": "python",
   "nbconvert_exporter": "python",
   "pygments_lexer": "ipython3",
   "version": "3.8.5"
  }
 },
 "nbformat": 4,
 "nbformat_minor": 5
}
